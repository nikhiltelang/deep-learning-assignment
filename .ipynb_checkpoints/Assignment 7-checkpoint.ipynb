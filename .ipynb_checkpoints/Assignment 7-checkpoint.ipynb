{
 "cells": [
  {
   "cell_type": "code",
   "execution_count": null,
   "id": "cf8570a4",
   "metadata": {},
   "outputs": [],
   "source": [
    "1. Can you think of a few applications for a sequence-to-sequence RNN? What about a\n",
    "sequence-to-vector RNN, and a c RNN?\n"
   ]
  },
  {
   "cell_type": "markdown",
   "id": "080944ff",
   "metadata": {},
   "source": [
    "sequence-to-sequence\n",
    "In Sequence to Sequence Learning, RNN is trained to map an input sequence to an output sequence which is not necessarily of the same length.\n",
    "\n",
    "sequence-to-vector\n",
    "Applications are speech recognition, machine translation, image captioning and question answering.\n",
    "A variable-length context vector can be used instead of a ﬁxed-size vector. An Attention mechanism can be used to produces a sequence of vectors from the encoder RNN from each time step of the input sequence. The Decoder learns to pay selective attention to the vectors to produce the output at each time step.\n",
    "\n",
    "vector-to-sequence\n",
    "A variable-length context vector can be used instead of a ﬁxed-size vector. An Attention mechanism can be used to produces a sequence of vectors from the encoder RNN from each time step of the input sequence. The Decoder learns to pay selective attention to the vectors to produce the output at each time step."
   ]
  },
  {
   "cell_type": "code",
   "execution_count": null,
   "id": "fde11d5d",
   "metadata": {},
   "outputs": [],
   "source": [
    "2. How many dimensions must the inputs of an RNN layer have? What does each dimension\n",
    "represent? What about its outputs?\n"
   ]
  },
  {
   "cell_type": "markdown",
   "id": "0863ea5d",
   "metadata": {},
   "source": [
    "Before we get down to business, an important thing to note is that the RNN input needs to have 3 dimensions. Typically it would be batch size, the number of steps and number of features."
   ]
  },
  {
   "cell_type": "code",
   "execution_count": null,
   "id": "6063dde5",
   "metadata": {},
   "outputs": [],
   "source": [
    "3. If you want to build a deep sequence-to-sequence RNN, which RNN layers should\n",
    "have return_sequences=True? What about a sequence-to-vector RNN?\n"
   ]
  },
  {
   "cell_type": "markdown",
   "id": "46093e0b",
   "metadata": {},
   "source": [
    "The shape of this output is (batch_size, units) where units corresponds to the units argument passed to the layer's constructor.\n",
    "if you set return_sequences=True. The shape of this output is (batch_size, timesteps, units)."
   ]
  },
  {
   "cell_type": "code",
   "execution_count": null,
   "id": "5203808c",
   "metadata": {},
   "outputs": [],
   "source": [
    "4. Suppose you have a daily univariate time series, and you want to forecast the next seven\n",
    "days. Which RNN architecture should you use?\n"
   ]
  },
  {
   "cell_type": "code",
   "execution_count": null,
   "id": "fa813e5b",
   "metadata": {},
   "outputs": [],
   "source": []
  },
  {
   "cell_type": "code",
   "execution_count": null,
   "id": "9868c920",
   "metadata": {},
   "outputs": [],
   "source": [
    "5. What are the main difficulties when training RNNs? How can you handle them?\n"
   ]
  },
  {
   "cell_type": "markdown",
   "id": "9995e715",
   "metadata": {},
   "source": [
    "There are two widely known issues with properly training Recurrent Neural Networks, the vanishing and the exploding gradient problems detailed in Bengio et al. (1994)."
   ]
  },
  {
   "cell_type": "code",
   "execution_count": null,
   "id": "e98413b0",
   "metadata": {},
   "outputs": [],
   "source": [
    "6. Can you sketch the LSTM cell’s architecture?\n"
   ]
  },
  {
   "cell_type": "markdown",
   "id": "7df7ce9b",
   "metadata": {},
   "source": [
    "Long Short Term Memory networks – usually just called “LSTMs” – are a special kind of RNN, capable of learning long-term dependencies. They were introduced by Hochreiter & Schmidhuber (1997), and were refined and popularized by many people in following work.1 They work tremendously well on a large variety of problems, and are now widely used.\n",
    "\n",
    "LSTMs are explicitly designed to avoid the long-term dependency problem. Remembering information for long periods of time is practically their default behavior, not something they struggle to learn!\n",
    "\n",
    "All recurrent neural networks have the form of a chain of repeating modules of neural network. In standard RNNs, this repeating module will have a very simple structure, such as a single tanh layer."
   ]
  },
  {
   "cell_type": "code",
   "execution_count": null,
   "id": "5a32b495",
   "metadata": {},
   "outputs": [],
   "source": [
    "7. Why would you want to use 1D convolutional layers in an RNN?\n"
   ]
  },
  {
   "cell_type": "markdown",
   "id": "2d32ebd2",
   "metadata": {},
   "source": [
    "1D convolutional neural nets can be used for extracting local 1D patches (subsequences) from sequences and can identify local patterns within the window of convolution. And because the same transformation is applied on every patch identified by the window, a pattern learnt at one position can also be recognized at a different position, making 1D conv nets translation invariant."
   ]
  },
  {
   "cell_type": "code",
   "execution_count": null,
   "id": "ed8683ef",
   "metadata": {},
   "outputs": [],
   "source": [
    "8. Which neural network architecture could you use to classify videos?\n"
   ]
  },
  {
   "cell_type": "markdown",
   "id": "a9ab95fc",
   "metadata": {},
   "source": [
    "Videos can be understood as a series of individual images; and therefore, many deep learning practitioners would be quick to treat video classification as performing image classification a total of N times, where N is the total number of frames in a video.\n",
    "\n"
   ]
  },
  {
   "cell_type": "code",
   "execution_count": null,
   "id": "6ebb5021",
   "metadata": {},
   "outputs": [],
   "source": [
    "9. Train a classification model for the SketchRNN dataset, available in TensorFlow Datasets."
   ]
  },
  {
   "cell_type": "code",
   "execution_count": null,
   "id": "31c722b2",
   "metadata": {},
   "outputs": [],
   "source": []
  }
 ],
 "metadata": {
  "kernelspec": {
   "display_name": "Python 3",
   "language": "python",
   "name": "python3"
  },
  "language_info": {
   "codemirror_mode": {
    "name": "ipython",
    "version": 3
   },
   "file_extension": ".py",
   "mimetype": "text/x-python",
   "name": "python",
   "nbconvert_exporter": "python",
   "pygments_lexer": "ipython3",
   "version": "3.8.8"
  }
 },
 "nbformat": 4,
 "nbformat_minor": 5
}
