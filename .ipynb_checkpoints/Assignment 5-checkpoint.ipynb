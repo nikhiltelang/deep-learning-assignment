{
 "cells": [
  {
   "cell_type": "code",
   "execution_count": null,
   "id": "97c2a9a7",
   "metadata": {},
   "outputs": [],
   "source": [
    "1. Why would you want to use the Data API?"
   ]
  },
  {
   "cell_type": "markdown",
   "id": "581d8240",
   "metadata": {},
   "source": [
    "APIs are needed to bring applications together in order to perform a designed function built around sharing data and executing pre-defined processes. They work as the middle man, allowing developers to build new programmatic interactions between the various applications people and businesses use on a daily basis."
   ]
  },
  {
   "cell_type": "code",
   "execution_count": null,
   "id": "f859a24f",
   "metadata": {},
   "outputs": [],
   "source": [
    "2. What are the benefits of splitting a large dataset into multiple files?"
   ]
  },
  {
   "cell_type": "code",
   "execution_count": null,
   "id": "2dcfb034",
   "metadata": {},
   "outputs": [],
   "source": [
    "3. During training, how can you tell that your input pipeline is the bottleneck? What can you do\n",
    "to fix it?"
   ]
  },
  {
   "cell_type": "markdown",
   "id": "f089c646",
   "metadata": {},
   "source": [
    "Bottlenecks are setbacks or obstacles that slow or delay a process. In the same way that the neck of a physical bottle will limit how quickly water can pass through it, process bottlenecks can restrict the flow of information, materials, products, and employee hours.\n",
    "\n",
    "Bottlenecks are commonly associated with manufacturing and logistics. But they can occur in any process where networks of people and tasks rely upon one another to keep the work flowing.\n",
    "\n",
    "There are two main types of bottlenecks:\n",
    "\n",
    "Short-term bottlenecks. These are caused by temporary problems. For example, a key team member becomes ill or goes on vacation. No one else is qualified to run their projects, which causes a backlog of work until they return.\n",
    "Long-term bottlenecks. These are the blockages that occur regularly. For example, a company's month-end reporting process is delayed every month, because a specific person has to complete a series of time-consuming tasks first.\n",
    "Both types of bottleneck can lead to lost revenue, dissatisfied customers, poor-quality products or services, and stress for team members, so identifying and fixing them is vital."
   ]
  },
  {
   "cell_type": "code",
   "execution_count": null,
   "id": "722ae3fd",
   "metadata": {},
   "outputs": [],
   "source": [
    "4. Can you save any binary data to a TFRecord file, or only serialized protocol buffers?"
   ]
  },
  {
   "cell_type": "markdown",
   "id": "ac179b6e",
   "metadata": {},
   "source": [
    "In order to write the data into a TFRecords file we need to convert each data point into a byte-string following the above process and write it into file using a tf.io.TFRecordsWriter. A great place to apply some preprocessing to your data such as data augmentation is before you serialize the example and write into file. We will see an example of this below with image data."
   ]
  },
  {
   "cell_type": "code",
   "execution_count": null,
   "id": "036de85f",
   "metadata": {},
   "outputs": [],
   "source": [
    "5. Why would you go through the hassle of converting all your data to the Example protobuf\n",
    "format? Why not use your own protobuf definition?"
   ]
  },
  {
   "cell_type": "markdown",
   "id": "297f4105",
   "metadata": {},
   "source": [
    "pb format is the protocol buffer (protobuf) format, and in Tensorflow, this format is used to hold models. Protobufs are a general way to store data by Google that is much nicer to transport, as it compacts the data more efficiently and enforces a structure to the data."
   ]
  },
  {
   "cell_type": "code",
   "execution_count": null,
   "id": "3aaa106b",
   "metadata": {},
   "outputs": [],
   "source": [
    "6. When using TFRecords, when would you want to activate compression? Why not do it\n",
    "systematically?"
   ]
  },
  {
   "cell_type": "code",
   "execution_count": null,
   "id": "9c32423c",
   "metadata": {},
   "outputs": [],
   "source": []
  },
  {
   "cell_type": "code",
   "execution_count": null,
   "id": "594e8a10",
   "metadata": {},
   "outputs": [],
   "source": [
    "7. Data can be preprocessed directly when writing the data files, or within the tf.data pipeline,\n",
    "or in preprocessing layers within your model, or using TF Transform. Can you list a few pros\n",
    "and cons of each option?"
   ]
  },
  {
   "cell_type": "code",
   "execution_count": null,
   "id": "8bb9f0b3",
   "metadata": {},
   "outputs": [],
   "source": []
  }
 ],
 "metadata": {
  "kernelspec": {
   "display_name": "Python 3",
   "language": "python",
   "name": "python3"
  },
  "language_info": {
   "codemirror_mode": {
    "name": "ipython",
    "version": 3
   },
   "file_extension": ".py",
   "mimetype": "text/x-python",
   "name": "python",
   "nbconvert_exporter": "python",
   "pygments_lexer": "ipython3",
   "version": "3.8.8"
  }
 },
 "nbformat": 4,
 "nbformat_minor": 5
}
