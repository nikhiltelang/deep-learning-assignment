{
 "cells": [
  {
   "cell_type": "code",
   "execution_count": null,
   "id": "76815ac1",
   "metadata": {},
   "outputs": [],
   "source": [
    "1. How would you describe TensorFlow in a short sentence? What are its main features? Can\n",
    "you name other popular Deep Learning libraries?"
   ]
  },
  {
   "cell_type": "code",
   "execution_count": null,
   "id": "dfbf7f8d",
   "metadata": {},
   "outputs": [],
   "source": [
    "2. Is TensorFlow a drop-in replacement for NumPy? What are the main differences between\n",
    "the two?"
   ]
  },
  {
   "cell_type": "code",
   "execution_count": null,
   "id": "b24dc05a",
   "metadata": {},
   "outputs": [],
   "source": [
    "3. Do you get the same result with tf.range(10) and tf.constant(np.arange(10))?"
   ]
  },
  {
   "cell_type": "code",
   "execution_count": null,
   "id": "ff32a94f",
   "metadata": {},
   "outputs": [],
   "source": [
    "4. Can you name six other data structures available in TensorFlow, beyond regular tensors?"
   ]
  },
  {
   "cell_type": "code",
   "execution_count": null,
   "id": "f1d0fe8f",
   "metadata": {},
   "outputs": [],
   "source": [
    "5. A custom loss function can be defined by writing a function or by subclassing\n",
    "the keras.losses.Loss class. When would you use each option?"
   ]
  },
  {
   "cell_type": "code",
   "execution_count": null,
   "id": "d3b3fb41",
   "metadata": {},
   "outputs": [],
   "source": [
    "6. Similarly, a custom metric can be defined in a function or a subclass of keras.metrics.Metric.\n",
    "When would you use each option?"
   ]
  },
  {
   "cell_type": "code",
   "execution_count": null,
   "id": "7e02cf32",
   "metadata": {},
   "outputs": [],
   "source": [
    "7. When should you create a custom layer versus a custom model?"
   ]
  },
  {
   "cell_type": "code",
   "execution_count": null,
   "id": "2d5844b5",
   "metadata": {},
   "outputs": [],
   "source": [
    "8. What are some use cases that require writing your own custom training loop?"
   ]
  },
  {
   "cell_type": "code",
   "execution_count": null,
   "id": "2db29ef5",
   "metadata": {},
   "outputs": [],
   "source": [
    "9. Can custom Keras components contain arbitrary Python code, or must they be convertible to\n",
    "TF Functions?"
   ]
  },
  {
   "cell_type": "code",
   "execution_count": null,
   "id": "bb58f420",
   "metadata": {},
   "outputs": [],
   "source": [
    "10. What are the main rules to respect if you want a function to be convertible to a TF Function?"
   ]
  },
  {
   "cell_type": "code",
   "execution_count": null,
   "id": "360448d2",
   "metadata": {},
   "outputs": [],
   "source": [
    "11. When would you need to create a dynamic Keras model? How do you do that? Why not\n",
    "make all your models dynamic?"
   ]
  }
 ],
 "metadata": {
  "kernelspec": {
   "display_name": "Python 3",
   "language": "python",
   "name": "python3"
  },
  "language_info": {
   "codemirror_mode": {
    "name": "ipython",
    "version": 3
   },
   "file_extension": ".py",
   "mimetype": "text/x-python",
   "name": "python",
   "nbconvert_exporter": "python",
   "pygments_lexer": "ipython3",
   "version": "3.8.8"
  }
 },
 "nbformat": 4,
 "nbformat_minor": 5
}
