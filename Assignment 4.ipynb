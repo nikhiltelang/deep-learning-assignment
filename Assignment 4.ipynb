{
 "cells": [
  {
   "cell_type": "markdown",
   "id": "766424db",
   "metadata": {},
   "source": [
    "1. How would you describe TensorFlow in a short sentence? What are its main features? Can\n",
    "you name other popular Deep Learning libraries?"
   ]
  },
  {
   "cell_type": "code",
   "execution_count": 2,
   "id": "72b4ec17",
   "metadata": {},
   "outputs": [
    {
     "name": "stdout",
     "output_type": "stream",
     "text": [
      "Collecting tensorflow\n",
      "  Downloading tensorflow-2.7.0-cp38-cp38-manylinux2010_x86_64.whl (489.6 MB)\n",
      "\u001b[K     |                                | 409 kB 81 kB/s eta 1:40:335\u001b[31mERROR: Exception:\n",
      "Traceback (most recent call last):\n",
      "  File \"/home/nick/anaconda3/lib/python3.8/site-packages/pip/_vendor/resolvelib/resolvers.py\", line 171, in _merge_into_criterion\n",
      "    crit = self.state.criteria[name]\n",
      "KeyError: 'tensorflow'\n",
      "\n",
      "During handling of the above exception, another exception occurred:\n",
      "\n",
      "Traceback (most recent call last):\n",
      "  File \"/home/nick/anaconda3/lib/python3.8/site-packages/pip/_vendor/urllib3/response.py\", line 438, in _error_catcher\n",
      "    yield\n",
      "  File \"/home/nick/anaconda3/lib/python3.8/site-packages/pip/_vendor/urllib3/response.py\", line 519, in read\n",
      "    data = self._fp.read(amt) if not fp_closed else b\"\"\n",
      "  File \"/home/nick/anaconda3/lib/python3.8/site-packages/pip/_vendor/cachecontrol/filewrapper.py\", line 62, in read\n",
      "    data = self.__fp.read(amt)\n",
      "  File \"/home/nick/anaconda3/lib/python3.8/http/client.py\", line 458, in read\n",
      "    n = self.readinto(b)\n",
      "  File \"/home/nick/anaconda3/lib/python3.8/http/client.py\", line 502, in readinto\n",
      "    n = self.fp.readinto(b)\n",
      "  File \"/home/nick/anaconda3/lib/python3.8/socket.py\", line 669, in readinto\n",
      "    return self._sock.recv_into(b)\n",
      "  File \"/home/nick/anaconda3/lib/python3.8/ssl.py\", line 1241, in recv_into\n",
      "    return self.read(nbytes, buffer)\n",
      "  File \"/home/nick/anaconda3/lib/python3.8/ssl.py\", line 1099, in read\n",
      "    return self._sslobj.read(len, buffer)\n",
      "socket.timeout: The read operation timed out\n",
      "\n",
      "During handling of the above exception, another exception occurred:\n",
      "\n",
      "Traceback (most recent call last):\n",
      "  File \"/home/nick/anaconda3/lib/python3.8/site-packages/pip/_internal/cli/base_command.py\", line 189, in _main\n",
      "    status = self.run(options, args)\n",
      "  File \"/home/nick/anaconda3/lib/python3.8/site-packages/pip/_internal/cli/req_command.py\", line 178, in wrapper\n",
      "    return func(self, options, args)\n",
      "  File \"/home/nick/anaconda3/lib/python3.8/site-packages/pip/_internal/commands/install.py\", line 316, in run\n",
      "    requirement_set = resolver.resolve(\n",
      "  File \"/home/nick/anaconda3/lib/python3.8/site-packages/pip/_internal/resolution/resolvelib/resolver.py\", line 121, in resolve\n",
      "    self._result = resolver.resolve(\n",
      "  File \"/home/nick/anaconda3/lib/python3.8/site-packages/pip/_vendor/resolvelib/resolvers.py\", line 453, in resolve\n",
      "    state = resolution.resolve(requirements, max_rounds=max_rounds)\n",
      "  File \"/home/nick/anaconda3/lib/python3.8/site-packages/pip/_vendor/resolvelib/resolvers.py\", line 318, in resolve\n",
      "    name, crit = self._merge_into_criterion(r, parent=None)\n",
      "  File \"/home/nick/anaconda3/lib/python3.8/site-packages/pip/_vendor/resolvelib/resolvers.py\", line 173, in _merge_into_criterion\n",
      "    crit = Criterion.from_requirement(self._p, requirement, parent)\n",
      "  File \"/home/nick/anaconda3/lib/python3.8/site-packages/pip/_vendor/resolvelib/resolvers.py\", line 82, in from_requirement\n",
      "    if not cands:\n",
      "  File \"/home/nick/anaconda3/lib/python3.8/site-packages/pip/_vendor/resolvelib/structs.py\", line 124, in __bool__\n",
      "    return bool(self._sequence)\n",
      "  File \"/home/nick/anaconda3/lib/python3.8/site-packages/pip/_internal/resolution/resolvelib/found_candidates.py\", line 143, in __bool__\n",
      "    return any(self)\n",
      "  File \"/home/nick/anaconda3/lib/python3.8/site-packages/pip/_internal/resolution/resolvelib/found_candidates.py\", line 38, in _iter_built\n",
      "    candidate = func()\n",
      "  File \"/home/nick/anaconda3/lib/python3.8/site-packages/pip/_internal/resolution/resolvelib/factory.py\", line 167, in _make_candidate_from_link\n",
      "    self._link_candidate_cache[link] = LinkCandidate(\n",
      "  File \"/home/nick/anaconda3/lib/python3.8/site-packages/pip/_internal/resolution/resolvelib/candidates.py\", line 300, in __init__\n",
      "    super().__init__(\n",
      "  File \"/home/nick/anaconda3/lib/python3.8/site-packages/pip/_internal/resolution/resolvelib/candidates.py\", line 144, in __init__\n",
      "    self.dist = self._prepare()\n",
      "  File \"/home/nick/anaconda3/lib/python3.8/site-packages/pip/_internal/resolution/resolvelib/candidates.py\", line 226, in _prepare\n",
      "    dist = self._prepare_distribution()\n",
      "  File \"/home/nick/anaconda3/lib/python3.8/site-packages/pip/_internal/resolution/resolvelib/candidates.py\", line 311, in _prepare_distribution\n",
      "    return self._factory.preparer.prepare_linked_requirement(\n",
      "  File \"/home/nick/anaconda3/lib/python3.8/site-packages/pip/_internal/operations/prepare.py\", line 457, in prepare_linked_requirement\n",
      "    return self._prepare_linked_requirement(req, parallel_builds)\n",
      "  File \"/home/nick/anaconda3/lib/python3.8/site-packages/pip/_internal/operations/prepare.py\", line 480, in _prepare_linked_requirement\n",
      "    local_file = unpack_url(\n",
      "  File \"/home/nick/anaconda3/lib/python3.8/site-packages/pip/_internal/operations/prepare.py\", line 230, in unpack_url\n",
      "    file = get_http_url(\n",
      "  File \"/home/nick/anaconda3/lib/python3.8/site-packages/pip/_internal/operations/prepare.py\", line 108, in get_http_url\n",
      "    from_path, content_type = download(link, temp_dir.path)\n",
      "  File \"/home/nick/anaconda3/lib/python3.8/site-packages/pip/_internal/network/download.py\", line 163, in __call__\n",
      "    for chunk in chunks:\n",
      "  File \"/home/nick/anaconda3/lib/python3.8/site-packages/pip/_internal/cli/progress_bars.py\", line 159, in iter\n",
      "    for x in it:\n",
      "  File \"/home/nick/anaconda3/lib/python3.8/site-packages/pip/_internal/network/utils.py\", line 64, in response_chunks\n",
      "    for chunk in response.raw.stream(\n",
      "  File \"/home/nick/anaconda3/lib/python3.8/site-packages/pip/_vendor/urllib3/response.py\", line 576, in stream\n",
      "    data = self.read(amt=amt, decode_content=decode_content)\n",
      "  File \"/home/nick/anaconda3/lib/python3.8/site-packages/pip/_vendor/urllib3/response.py\", line 541, in read\n",
      "    raise IncompleteRead(self._fp_bytes_read, self.length_remaining)\n",
      "  File \"/home/nick/anaconda3/lib/python3.8/contextlib.py\", line 131, in __exit__\n",
      "    self.gen.throw(type, value, traceback)\n",
      "  File \"/home/nick/anaconda3/lib/python3.8/site-packages/pip/_vendor/urllib3/response.py\", line 443, in _error_catcher\n",
      "    raise ReadTimeoutError(self._pool, None, \"Read timed out.\")\n",
      "pip._vendor.urllib3.exceptions.ReadTimeoutError: HTTPSConnectionPool(host='files.pythonhosted.org', port=443): Read timed out.\u001b[0m\n"
     ]
    }
   ],
   "source": [
    "!pip install tensorflow"
   ]
  },
  {
   "cell_type": "markdown",
   "id": "e1b8352e",
   "metadata": {},
   "source": [
    "2. Is TensorFlow a drop-in replacement for NumPy? What are the main differences between\n",
    "the two?"
   ]
  },
  {
   "cell_type": "markdown",
   "id": "94e09ea3",
   "metadata": {},
   "source": [
    "3. Do you get the same result with tf.range(10) and tf.constant(np.arange(10))?"
   ]
  },
  {
   "cell_type": "markdown",
   "id": "8a051e41",
   "metadata": {},
   "source": [
    "No"
   ]
  },
  {
   "cell_type": "markdown",
   "id": "a944e56f",
   "metadata": {},
   "source": [
    "4. Can you name six other data structures available in TensorFlow, beyond regular tensors?"
   ]
  },
  {
   "cell_type": "markdown",
   "id": "493d0062",
   "metadata": {},
   "source": []
  },
  {
   "cell_type": "markdown",
   "id": "e8b06994",
   "metadata": {},
   "source": [
    "5. A custom loss function can be defined by writing a function or by subclassing\n",
    "the keras.losses.Loss class. When would you use each option?"
   ]
  },
  {
   "cell_type": "markdown",
   "id": "8d9106fa",
   "metadata": {},
   "source": []
  },
  {
   "cell_type": "markdown",
   "id": "e3a58823",
   "metadata": {},
   "source": [
    "6. Similarly, a custom metric can be defined in a function or a subclass of keras.metrics.Metric.\n",
    "When would you use each option?"
   ]
  },
  {
   "cell_type": "markdown",
   "id": "42e2f2be",
   "metadata": {},
   "source": []
  },
  {
   "cell_type": "markdown",
   "id": "8de12624",
   "metadata": {},
   "source": [
    "7. When should you create a custom layer versus a custom model?"
   ]
  },
  {
   "cell_type": "markdown",
   "id": "57c7bb15",
   "metadata": {},
   "source": []
  },
  {
   "cell_type": "markdown",
   "id": "20519683",
   "metadata": {},
   "source": [
    "8. What are some use cases that require writing your own custom training loop?"
   ]
  },
  {
   "cell_type": "markdown",
   "id": "9675fa7f",
   "metadata": {},
   "source": []
  },
  {
   "cell_type": "markdown",
   "id": "f509a6c2",
   "metadata": {},
   "source": [
    "9. Can custom Keras components contain arbitrary Python code, or must they be convertible to\n",
    "TF Functions?"
   ]
  },
  {
   "cell_type": "markdown",
   "id": "72b9427f",
   "metadata": {},
   "source": []
  },
  {
   "cell_type": "markdown",
   "id": "2dd7ea67",
   "metadata": {},
   "source": [
    "10. What are the main rules to respect if you want a function to be convertible to a TF Function?"
   ]
  },
  {
   "cell_type": "markdown",
   "id": "66b406ef",
   "metadata": {},
   "source": []
  },
  {
   "cell_type": "markdown",
   "id": "49669b52",
   "metadata": {},
   "source": [
    "11. When would you need to create a dynamic Keras model? How do you do that? Why not\n",
    "make all your models dynamic?"
   ]
  },
  {
   "cell_type": "markdown",
   "id": "a642f400",
   "metadata": {},
   "source": []
  }
 ],
 "metadata": {
  "kernelspec": {
   "display_name": "Python 3",
   "language": "python",
   "name": "python3"
  },
  "language_info": {
   "codemirror_mode": {
    "name": "ipython",
    "version": 3
   },
   "file_extension": ".py",
   "mimetype": "text/x-python",
   "name": "python",
   "nbconvert_exporter": "python",
   "pygments_lexer": "ipython3",
   "version": "3.8.8"
  }
 },
 "nbformat": 4,
 "nbformat_minor": 5
}
