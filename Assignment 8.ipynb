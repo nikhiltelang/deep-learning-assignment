{
 "cells": [
  {
   "cell_type": "code",
   "execution_count": null,
   "id": "c0624b2f",
   "metadata": {},
   "outputs": [],
   "source": [
    "1. What are the pros and cons of using a stateful RNN versus a stateless RNN?"
   ]
  },
  {
   "cell_type": "markdown",
   "id": "f8cba8c5",
   "metadata": {},
   "source": [
    "whole point of LSTM is for the network to establish long-term dependencies in the data, i.e. an event happening now may be in some way determined by something that happened sometime in the past, and that may not be in the batch of data currently being presented, but many sequences or batches previously."
   ]
  },
  {
   "cell_type": "code",
   "execution_count": null,
   "id": "c8bfc117",
   "metadata": {},
   "outputs": [],
   "source": [
    "2. Why do people use Encoder–Decoder RNNs rather than plain sequence-to-sequence RNNs\n",
    "for automatic translation?"
   ]
  },
  {
   "cell_type": "markdown",
   "id": "dcecfb9a",
   "metadata": {},
   "source": [
    "The encoder-decoder architecture for recurrent neural networks is the standard neural machine translation method that rivals and in some cases outperforms classical statistical machine translation methods."
   ]
  },
  {
   "cell_type": "code",
   "execution_count": null,
   "id": "e6db39c9",
   "metadata": {},
   "outputs": [],
   "source": [
    "3. How can you deal with variable-length input sequences? What about variable-length output\n",
    "sequences?"
   ]
  },
  {
   "cell_type": "code",
   "execution_count": null,
   "id": "dd80c262",
   "metadata": {},
   "outputs": [],
   "source": [
    "4. What is beam search and why would you use it? What tool can you use to implement it?"
   ]
  },
  {
   "cell_type": "markdown",
   "id": "dde9d8bf",
   "metadata": {},
   "source": [
    "A heuristic search algorithm that examines a graph by extending the most promising node in a limited set is known as beam search. \n",
    "Beam search is a heuristic search technique that always expands the W number of the best nodes at each level. It progresses level by level and moves downwards only from the best W nodes at each level. Beam Search uses breadth-first search to build its search tree. Beam Search constructs its search tree using breadth-first search. It generates all the successors of the current level’s state at each level of the tree. However, at each level, it only evaluates a W number of states. Other nodes are not taken into account. \n",
    "The heuristic cost associated with the node is used to choose the best nodes. The width of the beam search is denoted by W. If B is the branching factor, at every depth, there will always be W × B nodes under consideration, but only W will be chosen. More states are trimmed when the beam width is reduced. "
   ]
  },
  {
   "cell_type": "code",
   "execution_count": null,
   "id": "0345e6ca",
   "metadata": {},
   "outputs": [],
   "source": [
    "5. What is an attention mechanism? How does it help?"
   ]
  },
  {
   "cell_type": "markdown",
   "id": "ea65f171",
   "metadata": {},
   "source": [
    "A neural network is considered to be an effort to mimic human brain actions in a simplified manner. Attention Mechanism is also an attempt to implement the same action of selectively concentrating on a few relevant things, while ignoring others in deep neural networks. "
   ]
  },
  {
   "cell_type": "code",
   "execution_count": null,
   "id": "de626039",
   "metadata": {},
   "outputs": [],
   "source": [
    "6. What is the most important layer in the Transformer architecture? What is its purpose?"
   ]
  },
  {
   "cell_type": "markdown",
   "id": "69994d82",
   "metadata": {},
   "source": [
    "The most important part here is the “Residual Connections” around the layers. This is very important in retaining the position related information which we are adding to the input representation/embedding across the network."
   ]
  },
  {
   "cell_type": "code",
   "execution_count": null,
   "id": "8bc9b38d",
   "metadata": {},
   "outputs": [],
   "source": [
    "7. When would you need to use sampled softmax?"
   ]
  },
  {
   "cell_type": "markdown",
   "id": "3c7918e5",
   "metadata": {},
   "source": [
    "Sampled softmax aims to approximate a full softmax during model training (Bengio & Sénécal, 2008; 2003). Rather than computing the loss over all classes, only the positive class and a sample of m negative classes are considered. Each negative class is sampled with probability qi with replacement."
   ]
  }
 ],
 "metadata": {
  "kernelspec": {
   "display_name": "Python 3",
   "language": "python",
   "name": "python3"
  },
  "language_info": {
   "codemirror_mode": {
    "name": "ipython",
    "version": 3
   },
   "file_extension": ".py",
   "mimetype": "text/x-python",
   "name": "python",
   "nbconvert_exporter": "python",
   "pygments_lexer": "ipython3",
   "version": "3.8.8"
  }
 },
 "nbformat": 4,
 "nbformat_minor": 5
}
